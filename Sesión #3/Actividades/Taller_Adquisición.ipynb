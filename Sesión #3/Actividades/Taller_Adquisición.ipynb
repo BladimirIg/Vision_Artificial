{
 "cells": [
  {
   "cell_type": "markdown",
   "metadata": {},
   "source": [
    "<hr>\n",
    "Este material ha sido construido en conjunto con material suministrado por el ingeniero Jairo Rodríguez Rodríguez co-fundador del semillero TecnIA (jaiarodriguezrod@unal.edu.co) y el monitor Dioselin Brito Peñaloza (dbrito@unal.edu.co).\n",
    "<hr>"
   ]
  },
  {
   "cell_type": "markdown",
   "metadata": {},
   "source": [
    "# Taller - Adquisición de imágen y color\n",
    "\n"
   ]
  },
  {
   "cell_type": "markdown",
   "metadata": {},
   "source": [
    "### Materiales:\n",
    "\n",
    " - Cámara (Celular, cámara fotográfica).\n",
    " - Objeto de cualquier tamaño, con uno o varios colores.\n",
    " - Iluminación artificial (Foco de la casa, flash del celular, etc).\n",
    " - Regla / Metro."
   ]
  },
  {
   "cell_type": "markdown",
   "metadata": {},
   "source": [
    "### Metodología\n",
    "\n",
    "- Tomar alguna fotos durante la mañana, tarde y noche. Con distancias diferentes 25cm, 50cm, 75cm, 100cm, cada distancia respectivamente con iluminación artificial y del ambiente. Anotar el tiempo, distancia que se tomó cada foto, así mismo la cámara y el sensor que usó, y utilice zoom en alguna fotografía. Intente explicar cómo su dispositivo realiza el zoom.\n",
    " \n",
    "- Leer las imágenes con opencv, y comparar con cada espacio de color (RGB, LAB, HSV).\n",
    "\n",
    "### Preguntas/Conclusiones\n",
    "\n",
    "- ¿Por qué se ve mejor el objeto en un canal determinado y en otro no?.\n",
    "\n",
    "- ¿Cómo explicar el contenido de los canales HSV con base a los resultados obtenidos?.\n",
    " \n",
    "\n",
    "\n",
    "\n",
    "\n"
   ]
  },
  {
   "cell_type": "code",
   "execution_count": 1,
   "metadata": {},
   "outputs": [],
   "source": [
    "%matplotlib inline \n",
    "#Magic para mostrar imágenes en Jupyter usando matplotlib\n",
    "\n",
    "import numpy as np\n",
    "import cv2\n",
    "import matplotlib.pyplot as plt"
   ]
  },
  {
   "cell_type": "code",
   "execution_count": null,
   "metadata": {},
   "outputs": [],
   "source": []
  }
 ],
 "metadata": {
  "kernelspec": {
   "display_name": "Python 3",
   "language": "python",
   "name": "python3"
  },
  "language_info": {
   "codemirror_mode": {
    "name": "ipython",
    "version": 3
   },
   "file_extension": ".py",
   "mimetype": "text/x-python",
   "name": "python",
   "nbconvert_exporter": "python",
   "pygments_lexer": "ipython3",
   "version": "3.7.4"
  }
 },
 "nbformat": 4,
 "nbformat_minor": 2
}
